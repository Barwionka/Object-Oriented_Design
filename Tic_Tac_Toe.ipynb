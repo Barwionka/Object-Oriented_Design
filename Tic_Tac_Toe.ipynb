{
 "cells": [
  {
   "cell_type": "code",
   "execution_count": 3,
   "metadata": {},
   "outputs": [
    {
     "name": "stdout",
     "output_type": "stream",
     "text": [
      "Collecting numpy\n",
      "  Using cached numpy-2.2.0-cp311-cp311-win_amd64.whl.metadata (60 kB)\n",
      "Using cached numpy-2.2.0-cp311-cp311-win_amd64.whl (12.9 MB)\n",
      "Installing collected packages: numpy\n",
      "Successfully installed numpy-2.2.0\n",
      "Note: you may need to restart the kernel to use updated packages.\n"
     ]
    },
    {
     "name": "stderr",
     "output_type": "stream",
     "text": [
      "\n",
      "[notice] A new release of pip is available: 24.0 -> 24.3.1\n",
      "[notice] To update, run: C:\\Users\\kgluc\\AppData\\Local\\Microsoft\\WindowsApps\\PythonSoftwareFoundation.Python.3.11_qbz5n2kfra8p0\\python.exe -m pip install --upgrade pip\n"
     ]
    }
   ],
   "source": [
    "pip install numpy"
   ]
  },
  {
   "cell_type": "code",
   "execution_count": 21,
   "metadata": {},
   "outputs": [],
   "source": [
    "import numpy as np\n",
    "import random\n",
    "class Map:\n",
    "    def __init__(self, num:int):\n",
    "        self.num = num\n",
    "        self.board = np.zeros([num,num])\n",
    "        self.x = 1\n",
    "        self.o = 2\n",
    "    def place_x(self, row:int, col:int):\n",
    "        self.board[row, col] = self.x\n",
    "\n",
    "    def place_o(self, row:int, col:int):\n",
    "        self.board[row, col] = self.o\n",
    "\n",
    "    def clean(self):\n",
    "        self.board = np.zeros([num, num])\n",
    "\n",
    "    def is_full(self):\n",
    "        return not np.any(self.board == 0)\n",
    "\n",
    "class Player:\n",
    "    def __init__(self, name):\n",
    "        self.name = name\n",
    "    def choice(self):\n",
    "        pass\n",
    "class RealPlayer(Player):\n",
    "    def choose(self):\n",
    "        row = random.randint(0,2)\n",
    "        col = random.randint(0,2)\n",
    "        return row, col\n",
    "class Game:\n",
    "    def __init__(self, player1:Player, player2:Player):\n",
    "        self.player1 = player1\n",
    "        self.player2 = player2\n",
    "        self.map = Map(3)\n",
    "        self.turn = 0\n",
    "    def next_turn(self):\n",
    "        if self.turn < 9:\n",
    "            if self.turn%2 == 0:\n",
    "                while True:\n",
    "                    row, col = self.player1.choose()\n",
    "                    if self.map.board[row,col] == 0:\n",
    "                        self.map.place_x(row, col) \n",
    "                        break\n",
    "                        \n",
    "            if self.turn%2 == 1:\n",
    "                while True:\n",
    "                    row, col = self.player2.choose()\n",
    "                    if self.map.board[row, col] == 0:\n",
    "                        self.map.place_o(row, col) \n",
    "                        break\n",
    "\n",
    "            self.turn = self.turn + 1\n",
    "\n",
    "    def check(self):\n",
    "        i = 0\n",
    "        while i < self.map.num:\n",
    "            if (list(self.map.board[:,i]) == [1,1,1] or list(self.map.board[i,:]) == [1,1,1]):\n",
    "                return \"X won\"\n",
    "            if (list(self.map.board[:,i]) == [2,2,2] or list(self.map.board[i,:]) == [2,2,2]):\n",
    "                return \"O won\"\n",
    "            i = i+1\n",
    "\n",
    "        if all(self.map.board[i, i] == 1 for i in range(self.map.num)):  # top-left to bottom-right\n",
    "            return \"X won\"\n",
    "        if all(self.map.board[i, i] == 2 for i in range(self.map.num)):  # top-left to bottom-right\n",
    "            return \"O won\"\n",
    "        if all(self.map.board[i, self.map.num - 1 - i] == 1 for i in range(self.map.num)):  # top-right to bottom-left\n",
    "            return \"X won\"\n",
    "        if all(self.map.board[i, self.map.num - 1 - i] == 2 for i in range(self.map.num)):  # top-right to bottom-left\n",
    "            return \"O won\"\n",
    "        \n",
    "        if self.map.is_full():\n",
    "            return \"Draw\""
   ]
  },
  {
   "cell_type": "code",
   "execution_count": 27,
   "metadata": {},
   "outputs": [
    {
     "name": "stdout",
     "output_type": "stream",
     "text": [
      "[[0. 0. 0.]\n",
      " [0. 0. 0.]\n",
      " [0. 1. 0.]]\n",
      "[[0. 2. 0.]\n",
      " [0. 0. 0.]\n",
      " [0. 1. 0.]]\n",
      "[[0. 2. 0.]\n",
      " [0. 0. 0.]\n",
      " [0. 1. 1.]]\n",
      "[[0. 2. 2.]\n",
      " [0. 0. 0.]\n",
      " [0. 1. 1.]]\n",
      "[[0. 2. 2.]\n",
      " [0. 0. 1.]\n",
      " [0. 1. 1.]]\n",
      "[[0. 2. 2.]\n",
      " [0. 2. 1.]\n",
      " [0. 1. 1.]]\n",
      "[[0. 2. 2.]\n",
      " [1. 2. 1.]\n",
      " [0. 1. 1.]]\n",
      "[[2. 2. 2.]\n",
      " [1. 2. 1.]\n",
      " [0. 1. 1.]]\n"
     ]
    }
   ],
   "source": [
    "p1 = RealPlayer(\"Tomuś\")\n",
    "p2 = RealPlayer(\"Robert\")\n",
    "game = Game(p1, p2)\n",
    "\n",
    "i = 0   \n",
    "while i <10:\n",
    "    x1,y1 = p1.choose()\n",
    "    x2,y2 = p2.choose()\n",
    "    test.place_o(x1,y1)\n",
    "    test.place_x(x2,y2)\n",
    "    i = i+1\n",
    "game = Game(p1,p2)\n",
    "game.next_turn()\n",
    "print(game.map.board)\n",
    "game.next_turn()\n",
    "print(game.map.board)\n",
    "game.next_turn()\n",
    "print(game.map.board)\n",
    "game.next_turn()\n",
    "print(game.map.board)\n",
    "game.next_turn()\n",
    "print(game.map.board)\n",
    "game.next_turn()\n",
    "print(game.map.board)\n",
    "game.next_turn()\n",
    "print(game.map.board)\n",
    "game.next_turn()\n",
    "print(game.map.board)\n",
    "game.next_turn()"
   ]
  },
  {
   "cell_type": "code",
   "execution_count": 28,
   "metadata": {},
   "outputs": [
    {
     "data": {
      "text/plain": [
       "'O won'"
      ]
     },
     "execution_count": 28,
     "metadata": {},
     "output_type": "execute_result"
    }
   ],
   "source": [
    "game.check()"
   ]
  },
  {
   "cell_type": "code",
   "execution_count": 24,
   "metadata": {},
   "outputs": [],
   "source": []
  },
  {
   "cell_type": "code",
   "execution_count": null,
   "metadata": {},
   "outputs": [],
   "source": []
  }
 ],
 "metadata": {
  "kernelspec": {
   "display_name": "Python 3",
   "language": "python",
   "name": "python3"
  },
  "language_info": {
   "codemirror_mode": {
    "name": "ipython",
    "version": 3
   },
   "file_extension": ".py",
   "mimetype": "text/x-python",
   "name": "python",
   "nbconvert_exporter": "python",
   "pygments_lexer": "ipython3",
   "version": "3.11.9"
  }
 },
 "nbformat": 4,
 "nbformat_minor": 2
}
