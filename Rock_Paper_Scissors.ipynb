{
 "cells": [
  {
   "cell_type": "code",
   "execution_count": null,
   "metadata": {},
   "outputs": [],
   "source": [
    "status = [\"rock\", \"scissors\", \"paper\"]"
   ]
  },
  {
   "cell_type": "code",
   "execution_count": null,
   "metadata": {},
   "outputs": [],
   "source": [
    "import random\n",
    "def drawing():\n",
    "    status = [\"rock\", \"scissors\", \"paper\"]\n",
    "    value = random.random()\n",
    "    if value < 1/3:\n",
    "        return(status[0])\n",
    "    elif value < 2/3 and value > 1/3:\n",
    "        return(status[1])\n",
    "    return(status[2])\n"
   ]
  },
  {
   "cell_type": "code",
   "execution_count": null,
   "metadata": {},
   "outputs": [
    {
     "data": {
      "text/plain": [
       "rock paper\n"
      ]
     },
     "metadata": {},
     "output_type": "display_data"
    }
   ],
   "source": [
    "player1 = drawing()\n",
    "player2 = drawing()\n",
    "print(player1, player2)"
   ]
  },
  {
   "cell_type": "markdown",
   "metadata": {},
   "source": [
    "In OOD"
   ]
  },
  {
   "cell_type": "code",
   "execution_count": null,
   "metadata": {},
   "outputs": [],
   "source": [
    "import random\n",
    "\n",
    "class Player:\n",
    "    def __init__(self, name):\n",
    "        self.name = name\n",
    "    def get_choice(self):\n",
    "        pass\n",
    "class ComputerPlayer(Player):\n",
    "    def get_choice(self):\n",
    "        return random.choice([\"rock\", \"scissors\", \"paper\"])\n",
    "    \n",
    "class HumanPlayer(Player):\n",
    "    def get_choice(self):\n",
    "        while True:\n",
    "            choice = input(\"Choose paper, rock or scissors: \")\n",
    "            if choice in  [\"rock\", \"scissors\", \"paper\"]:\n",
    "                return choice\n",
    "            else:\n",
    "                print(\"Error, try again: \")\n",
    "\n",
    "class Game:\n",
    "    def __init__(self, player1: Player, player2: Player):\n",
    "        self.player1 = player1\n",
    "        self.player2 = player2\n",
    "\n",
    "    def result(self, choice1, choice2):\n",
    "        if choice1 == choice2:\n",
    "            return \"Remis\"\n",
    "        elif (\n",
    "            (choice1 == \"rock\" and choice2 == \"scissors\") or\n",
    "            (choice1 == \"paper\" and choice2 == \"rock\") or\n",
    "            (choice1 == \"scissors\" and choice2 == \"paper\")\n",
    "        ):\n",
    "            return f\"{self.player1.name} won\"\n",
    "        return f\"{self.player2.name} won\"\n",
    "        \n",
    "        \n",
    "\n"
   ]
  },
  {
   "cell_type": "code",
   "execution_count": null,
   "metadata": {},
   "outputs": [
    {
     "data": {
      "text/plain": [
       "Draw\n"
      ]
     },
     "metadata": {},
     "output_type": "display_data"
    }
   ],
   "source": [
    "player1 = ComputerPlayer(\"Comp1\")\n",
    "player2 = ComputerPlayer(\"Comp2\")\n",
    "\n",
    "game = Game(player1, player2)\n",
    "\n",
    "choice1 = player1.get_choice()\n",
    "choice2 = player2.get_choice()\n",
    "\n",
    "print(game.result(choice1, choice2))"
   ]
  },
  {
   "cell_type": "code",
   "execution_count": null,
   "metadata": {},
   "outputs": [
    {
     "data": {
      "text/plain": [
       "Comp1 won\n"
      ]
     },
     "metadata": {},
     "output_type": "display_data"
    }
   ],
   "source": [
    "player1 = ComputerPlayer(\"Comp1\")\n",
    "player2 = HumanPlayer(\"Albert\")\n",
    "\n",
    "game = Game(player1, player2)\n",
    "\n",
    "choice1 = player1.get_choice()\n",
    "choice2 = player2.get_choice()\n",
    "\n",
    "print(game.result(choice1, choice2))"
   ]
  },
  {
   "cell_type": "code",
   "execution_count": null,
   "metadata": {},
   "outputs": [],
   "source": []
  }
 ],
 "metadata": {
  "language_info": {
   "name": "python"
  }
 },
 "nbformat": 4,
 "nbformat_minor": 2
}
